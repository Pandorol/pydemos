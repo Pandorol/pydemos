{
 "cells": [
  {
   "cell_type": "code",
   "execution_count": 18,
   "metadata": {},
   "outputs": [
    {
     "name": "stdout",
     "output_type": "stream",
     "text": [
      "\n",
      "feature_crosses\n",
      "feature_sets\n",
      "first_steps_with_tensor_flow\n",
      "improving_neural_net_performance\n",
      "intro_to_neural_nets\n",
      "intro_to_sparse_data_and_embeddings\n",
      "logistic_regression\n",
      "multi-class_classification_of_handwritten_digits\n",
      "sparsity_and_l1_regularization\n",
      "synthetic_features_and_outliers\n",
      "test\n",
      "validation\n",
      "C:\\Users\\82000\\Desktop\\mlcc-exercises_zh-CN\\prework\n"
     ]
    }
   ],
   "source": [
    "import os\n",
    "path = \"C:/Users/82000/Desktop/mlcc-exercises_zh-CN/exercises\"#换成你的路劲\n",
    "path2 = \"C:/Users/82000/Desktop/mlcc-exercises_zh-CN/exercises/test.txt\"#写出的文件路劲\n",
    "datas=[]\n",
    "txtfile = open(path2,'w')\n",
    "fileList = os.listdir(path)\n",
    "for file in fileList:\n",
    "    index = file.rfind('.')\n",
    "    file = file[:index]\n",
    "    txtfile.write(file+'\\n')\n",
    "    datas.append(file)\n",
    "for data in datas:\n",
    "    print(data)\n",
    "print(os.path.abspath('.'))"
   ]
  },
  {
   "cell_type": "code",
   "execution_count": null,
   "metadata": {},
   "outputs": [],
   "source": []
  }
 ],
 "metadata": {
  "kernelspec": {
   "display_name": "Python 3",
   "language": "python",
   "name": "python3"
  },
  "language_info": {
   "codemirror_mode": {
    "name": "ipython",
    "version": 3
   },
   "file_extension": ".py",
   "mimetype": "text/x-python",
   "name": "python",
   "nbconvert_exporter": "python",
   "pygments_lexer": "ipython3",
   "version": "3.6.12"
  }
 },
 "nbformat": 4,
 "nbformat_minor": 4
}
